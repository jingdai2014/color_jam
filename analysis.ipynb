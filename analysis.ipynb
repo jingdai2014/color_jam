{
 "cells": [
  {
   "cell_type": "code",
   "execution_count": 5,
   "metadata": {
    "collapsed": true
   },
   "outputs": [],
   "source": [
    "import json\n",
    "import collections\n",
    "import matplotlib.pyplot as plt\n",
    "import matplotlib.dates as md\n",
    "import dateutil"
   ]
  },
  {
   "cell_type": "code",
   "execution_count": 2,
   "metadata": {
    "collapsed": true
   },
   "outputs": [],
   "source": [
    "with open('output.json') as data_file:\n",
    "\tdata = json.load(data_file)[\"colors\"]\n",
    "\n",
    "colors = collections.OrderedDict()\n",
    "valence = collections.OrderedDict()\n",
    "for record in data:\n",
    "\tuid = record[\"uid\"]\n",
    "\tif uid not in colors.keys():\n",
    "\t\tcolors[uid] = collections.OrderedDict()\n",
    "\tif uid not in valence.keys():\n",
    "\t\tvalence[uid] = collections.OrderedDict()\n",
    "\tcolors[uid][record[\"time\"]] = record[\"color\"]\n",
    "\tvalence[uid][record[\"time\"]] = record[\"valence\"]"
   ]
  },
  {
   "cell_type": "code",
   "execution_count": 4,
   "metadata": {
    "collapsed": false
   },
   "outputs": [
    {
     "name": "stdout",
     "output_type": "stream",
     "text": [
      "OrderedDict([(u'2015-11-19 17:14:13.546655', u'rgb(255, 153, 153)'), (u'2015-11-19 19:44:17.295086', u'rgb(153, 0, 0)'), (u'2015-11-19 21:57:16.483767', u'rgb(153, 0, 255)'), (u'2015-11-20 11:23:02.654015', u'rgb(255, 204, 51)'), (u'2015-11-20 16:01:08.643336', u'rgb(255, 153, 153)'), (u'2015-11-20 17:45:22.808753', u'rgb(255, 204, 0)')])\n",
      "OrderedDict([(u'2015-11-19 17:14:13.546655', 52), (u'2015-11-19 19:44:17.295086', -20), (u'2015-11-19 21:57:16.483767', 0), (u'2015-11-20 11:23:02.654015', 31), (u'2015-11-20 16:01:08.643336', -8), (u'2015-11-20 17:45:22.808753', 26)])\n"
     ]
    }
   ],
   "source": [
    "print colors[1]\n",
    "print valence[1]"
   ]
  },
  {
   "cell_type": "code",
   "execution_count": null,
   "metadata": {
    "collapsed": true
   },
   "outputs": [],
   "source": []
  }
 ],
 "metadata": {
  "kernelspec": {
   "display_name": "Python 2",
   "language": "python",
   "name": "python2"
  },
  "language_info": {
   "codemirror_mode": {
    "name": "ipython",
    "version": 2
   },
   "file_extension": ".py",
   "mimetype": "text/x-python",
   "name": "python",
   "nbconvert_exporter": "python",
   "pygments_lexer": "ipython2",
   "version": "2.7.10"
  }
 },
 "nbformat": 4,
 "nbformat_minor": 0
}
